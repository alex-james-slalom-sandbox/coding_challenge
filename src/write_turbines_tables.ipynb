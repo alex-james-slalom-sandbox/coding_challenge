{
 "cells": [
  {
   "cell_type": "code",
   "execution_count": 0,
   "metadata": {
    "application/vnd.databricks.v1+cell": {
     "cellMetadata": {
      "byteLimit": 2048000,
      "rowLimit": 10000
     },
     "inputWidgets": {},
     "nuid": "8bd3c5ff-b19b-408a-a765-dea3968562a9",
     "showTitle": false,
     "tableResultSettingsMap": {},
     "title": ""
    }
   },
   "outputs": [],
   "source": [
    "turbines_data = spark.read.table('main.bronze.turbines_cleaned_raw_records')\n",
    "turbines_data.write.mode('overWrite').option(\"mergeSchema\", \"true\").saveAsTable('main.silver.turbines_data')\n",
    "\n",
    "turbines_summary_satistics = spark.read.table('main.bronze.turbines_cleaned_aggregations')\n",
    "turbines_summary_satistics.write.mode('overWrite').option(\"mergeSchema\", \"true\").saveAsTable('main.silver.turbines_summary_satistics')"
   ]
  }
 ],
 "metadata": {
  "application/vnd.databricks.v1+notebook": {
   "computePreferences": null,
   "dashboards": [],
   "environmentMetadata": {
    "base_environment": "",
    "client": "1"
   },
   "language": "python",
   "notebookMetadata": {
    "pythonIndentUnit": 4
   },
   "notebookName": "write_turbines_tables",
   "widgets": {}
  },
  "language_info": {
   "name": "python"
  }
 },
 "nbformat": 4,
 "nbformat_minor": 0
}
